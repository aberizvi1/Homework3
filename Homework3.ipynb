{
 "cells": [
  {
   "cell_type": "code",
   "execution_count": 1,
   "metadata": {},
   "outputs": [],
   "source": [
    "import pandas as pd"
   ]
  },
  {
   "cell_type": "code",
   "execution_count": 2,
   "metadata": {},
   "outputs": [
    {
     "data": {
      "text/html": [
       "<div>\n",
       "<style scoped>\n",
       "    .dataframe tbody tr th:only-of-type {\n",
       "        vertical-align: middle;\n",
       "    }\n",
       "\n",
       "    .dataframe tbody tr th {\n",
       "        vertical-align: top;\n",
       "    }\n",
       "\n",
       "    .dataframe thead th {\n",
       "        text-align: right;\n",
       "    }\n",
       "</style>\n",
       "<table border=\"1\" class=\"dataframe\">\n",
       "  <thead>\n",
       "    <tr style=\"text-align: right;\">\n",
       "      <th></th>\n",
       "      <th>Voter ID</th>\n",
       "      <th>County</th>\n",
       "      <th>Candidate</th>\n",
       "    </tr>\n",
       "  </thead>\n",
       "  <tbody>\n",
       "    <tr>\n",
       "      <th>0</th>\n",
       "      <td>12864552</td>\n",
       "      <td>Marsh</td>\n",
       "      <td>Khan</td>\n",
       "    </tr>\n",
       "    <tr>\n",
       "      <th>1</th>\n",
       "      <td>17444633</td>\n",
       "      <td>Marsh</td>\n",
       "      <td>Correy</td>\n",
       "    </tr>\n",
       "    <tr>\n",
       "      <th>2</th>\n",
       "      <td>19330107</td>\n",
       "      <td>Marsh</td>\n",
       "      <td>Khan</td>\n",
       "    </tr>\n",
       "    <tr>\n",
       "      <th>3</th>\n",
       "      <td>19865775</td>\n",
       "      <td>Queen</td>\n",
       "      <td>Khan</td>\n",
       "    </tr>\n",
       "    <tr>\n",
       "      <th>4</th>\n",
       "      <td>11927875</td>\n",
       "      <td>Marsh</td>\n",
       "      <td>Khan</td>\n",
       "    </tr>\n",
       "  </tbody>\n",
       "</table>\n",
       "</div>"
      ],
      "text/plain": [
       "   Voter ID County Candidate\n",
       "0  12864552  Marsh      Khan\n",
       "1  17444633  Marsh    Correy\n",
       "2  19330107  Marsh      Khan\n",
       "3  19865775  Queen      Khan\n",
       "4  11927875  Marsh      Khan"
      ]
     },
     "execution_count": 2,
     "metadata": {},
     "output_type": "execute_result"
    }
   ],
   "source": [
    "PPoll=pd.read_csv(r\"C:\\Users\\mrpre\\Documents\\School\\2018-19Bootcamp\\Done\\3CB\\03HWPython\\Instructions\\PyPoll.csv\")\n",
    "PPoll.head()"
   ]
  },
  {
   "cell_type": "code",
   "execution_count": 3,
   "metadata": {},
   "outputs": [
    {
     "data": {
      "text/plain": [
       "Voter ID\n",
       "10000002    1\n",
       "10000006    1\n",
       "10000032    1\n",
       "10000044    1\n",
       "10000051    1\n",
       "10000054    1\n",
       "10000056    1\n",
       "10000071    1\n",
       "10000075    1\n",
       "10000076    1\n",
       "10000092    1\n",
       "10000104    1\n",
       "10000112    1\n",
       "10000114    1\n",
       "10000129    1\n",
       "10000130    1\n",
       "10000145    1\n",
       "10000152    1\n",
       "10000176    1\n",
       "10000178    1\n",
       "10000195    1\n",
       "10000211    1\n",
       "10000232    1\n",
       "10000238    1\n",
       "10000249    1\n",
       "10000262    1\n",
       "10000265    1\n",
       "10000270    1\n",
       "10000277    1\n",
       "10000281    1\n",
       "           ..\n",
       "19999653    1\n",
       "19999696    1\n",
       "19999730    1\n",
       "19999733    1\n",
       "19999742    1\n",
       "19999758    1\n",
       "19999771    1\n",
       "19999776    1\n",
       "19999778    1\n",
       "19999782    1\n",
       "19999807    1\n",
       "19999817    1\n",
       "19999819    1\n",
       "19999826    1\n",
       "19999827    1\n",
       "19999842    1\n",
       "19999854    1\n",
       "19999875    1\n",
       "19999877    1\n",
       "19999908    1\n",
       "19999910    1\n",
       "19999925    1\n",
       "19999930    1\n",
       "19999931    1\n",
       "19999947    1\n",
       "19999956    1\n",
       "19999957    1\n",
       "19999968    1\n",
       "19999981    1\n",
       "19999985    1\n",
       "Name: Voter ID, Length: 1048575, dtype: int64"
      ]
     },
     "execution_count": 3,
     "metadata": {},
     "output_type": "execute_result"
    }
   ],
   "source": [
    "a=PPoll.groupby([\"Voter ID\"])[\"Voter ID\"].count()\n",
    "a"
   ]
  },
  {
   "cell_type": "code",
   "execution_count": 4,
   "metadata": {},
   "outputs": [
    {
     "data": {
      "text/plain": [
       "Candidate\n",
       "Correy      209046\n",
       "Khan        661583\n",
       "Li          146360\n",
       "O'Tooley     31586\n",
       "Name: Candidate, dtype: int64"
      ]
     },
     "execution_count": 4,
     "metadata": {},
     "output_type": "execute_result"
    }
   ],
   "source": [
    "b=PPoll.groupby([\"Candidate\"])[\"Candidate\"].count()\n",
    "b"
   ]
  },
  {
   "cell_type": "code",
   "execution_count": 8,
   "metadata": {},
   "outputs": [
    {
     "data": {
      "text/html": [
       "<div>\n",
       "<style scoped>\n",
       "    .dataframe tbody tr th:only-of-type {\n",
       "        vertical-align: middle;\n",
       "    }\n",
       "\n",
       "    .dataframe tbody tr th {\n",
       "        vertical-align: top;\n",
       "    }\n",
       "\n",
       "    .dataframe thead th {\n",
       "        text-align: right;\n",
       "    }\n",
       "</style>\n",
       "<table border=\"1\" class=\"dataframe\">\n",
       "  <thead>\n",
       "    <tr style=\"text-align: right;\">\n",
       "      <th></th>\n",
       "      <th>PCV</th>\n",
       "    </tr>\n",
       "    <tr>\n",
       "      <th>Candidate</th>\n",
       "      <th></th>\n",
       "    </tr>\n",
       "  </thead>\n",
       "  <tbody>\n",
       "    <tr>\n",
       "      <th>Correy</th>\n",
       "      <td>0.199362</td>\n",
       "    </tr>\n",
       "    <tr>\n",
       "      <th>Khan</th>\n",
       "      <td>0.630935</td>\n",
       "    </tr>\n",
       "    <tr>\n",
       "      <th>Li</th>\n",
       "      <td>0.139580</td>\n",
       "    </tr>\n",
       "    <tr>\n",
       "      <th>O'Tooley</th>\n",
       "      <td>0.030123</td>\n",
       "    </tr>\n",
       "  </tbody>\n",
       "</table>\n",
       "</div>"
      ],
      "text/plain": [
       "                PCV\n",
       "Candidate          \n",
       "Correy     0.199362\n",
       "Khan       0.630935\n",
       "Li         0.139580\n",
       "O'Tooley   0.030123"
      ]
     },
     "execution_count": 8,
     "metadata": {},
     "output_type": "execute_result"
    }
   ],
   "source": [
    "c=pd.DataFrame({'PCV': PPoll.groupby(('Candidate')).size()/len(PPoll)})\n",
    "c"
   ]
  }
 ],
 "metadata": {
  "kernelspec": {
   "display_name": "Python 3",
   "language": "python",
   "name": "python3"
  },
  "language_info": {
   "codemirror_mode": {
    "name": "ipython",
    "version": 3
   },
   "file_extension": ".py",
   "mimetype": "text/x-python",
   "name": "python",
   "nbconvert_exporter": "python",
   "pygments_lexer": "ipython3",
   "version": "3.7.1"
  }
 },
 "nbformat": 4,
 "nbformat_minor": 2
}
